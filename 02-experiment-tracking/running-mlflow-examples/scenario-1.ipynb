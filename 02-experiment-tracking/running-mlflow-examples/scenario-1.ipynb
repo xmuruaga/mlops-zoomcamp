{
 "cells": [
  {
   "cell_type": "markdown",
   "metadata": {},
   "source": [
    "## Scenario 1: A single data scientist participating in an ML competition\n",
    "\n",
    "This scenario demonstrates how an individual data scientist can use MLflow to track machine learning experiments on their local machine. This is a common setup for solo projects, hackathons, or competitions where collaboration and remote access are not required.\n",
    "\n",
    "### MLflow setup overview\n",
    "- **Tracking server:** Not used (runs locally, no remote server)\n",
    "- **Backend store:** Local filesystem (stores experiment metadata in the `mlruns/` folder)\n",
    "- **Artifacts store:** Local filesystem (stores model files and other artifacts in the same `mlruns/` folder)\n",
    "\n",
    "With this setup, all experiment runs, parameters, metrics, and artifacts are saved locally. You can explore and compare your experiments using the MLflow UI.\n",
    "\n",
    "### How to use the MLflow UI\n",
    "- You can launch the MLflow UI by running `mlflow ui` in your terminal, or by running the provided code cell in this notebook.\n",
    "- The UI will be available at [http://localhost:5000](http://localhost:5000).\n",
    "- Use the UI to browse experiments, compare runs, and inspect logged models and artifacts.\n",
    "\n",
    "> **Tip:** This local setup is ideal for learning and prototyping. For team projects or production, you would typically use a remote tracking server and a more robust backend (e.g., a database and cloud storage)."
   ]
  },
  {
   "cell_type": "code",
   "execution_count": 9,
   "metadata": {},
   "outputs": [],
   "source": [
    "import mlflow"
   ]
  },
  {
   "cell_type": "code",
   "execution_count": 10,
   "metadata": {},
   "outputs": [
    {
     "name": "stdout",
     "output_type": "stream",
     "text": [
      "tracking URI: 'file:///workspaces/mlops-zoomcamp/02-experiment-tracking/running-mlflow-examples/mlruns'\n"
     ]
    }
   ],
   "source": [
    "print(f\"tracking URI: '{mlflow.get_tracking_uri()}'\")"
   ]
  },
  {
   "cell_type": "code",
   "execution_count": 11,
   "metadata": {},
   "outputs": [
    {
     "data": {
      "text/plain": [
       "[<Experiment: artifact_location='file:///workspaces/mlops-zoomcamp/02-experiment-tracking/running-mlflow-examples/mlruns/462114580345106797', creation_time=1751191389446, experiment_id='462114580345106797', last_update_time=1751191389446, lifecycle_stage='active', name='my-experiment-1', tags={}>,\n",
       " <Experiment: artifact_location='file:///workspaces/mlops-zoomcamp/02-experiment-tracking/running-mlflow-examples/mlruns/0', creation_time=1751191388315, experiment_id='0', last_update_time=1751191388315, lifecycle_stage='active', name='Default', tags={}>]"
      ]
     },
     "execution_count": 11,
     "metadata": {},
     "output_type": "execute_result"
    }
   ],
   "source": [
    "mlflow.search_experiments()"
   ]
  },
  {
   "cell_type": "markdown",
   "metadata": {},
   "source": [
    "### Creating an experiment and logging a new run"
   ]
  },
  {
   "cell_type": "code",
   "execution_count": 12,
   "metadata": {},
   "outputs": [
    {
     "name": "stdout",
     "output_type": "stream",
     "text": [
      "Logged run for LogisticRegression, accuracy=0.973\n",
      "Logged run for RandomForestClassifier, accuracy=1.000\n"
     ]
    }
   ],
   "source": [
    "from sklearn.linear_model import LogisticRegression\n",
    "from sklearn.ensemble import RandomForestClassifier\n",
    "from sklearn.datasets import load_iris\n",
    "from sklearn.metrics import accuracy_score, confusion_matrix\n",
    "import numpy as np\n",
    "import mlflow\n",
    "import sklearn\n",
    "import datetime\n",
    "import pandas as pd\n",
    "import matplotlib.pyplot as plt\n",
    "import seaborn as sns\n",
    "\n",
    "mlflow.set_experiment(\"my-experiment-1\")\n",
    "\n",
    "X, y = load_iris(return_X_y=True)\n",
    "class_names = load_iris().target_names\n",
    "\n",
    "models = [\n",
    "    (\"LogisticRegression\", LogisticRegression(C=1.0, random_state=42, max_iter=1000, solver=\"lbfgs\")),\n",
    "    (\"RandomForestClassifier\", RandomForestClassifier(n_estimators=100, random_state=42))\n",
    "]\n",
    "\n",
    "for model_name, model in models:\n",
    "    with mlflow.start_run() as run:\n",
    "        mlflow.set_tag(\"model_type\", model_name)\n",
    "        mlflow.log_param(\"sklearn_version\", sklearn.__version__)\n",
    "        model.fit(X, y)\n",
    "        y_pred = model.predict(X)\n",
    "        acc = accuracy_score(y, y_pred)\n",
    "        mlflow.log_metric(\"accuracy\", acc)\n",
    "        # Log confusion matrix as labeled DataFrame\n",
    "        cm = confusion_matrix(y, y_pred)\n",
    "        cm_df = pd.DataFrame(cm, index=class_names, columns=class_names)\n",
    "        cm_df.to_csv(\"confusion_matrix_labeled.csv\")\n",
    "        mlflow.log_artifact(\"confusion_matrix_labeled.csv\")\n",
    "        # Confusion matrix heatmap as image\n",
    "        plt.figure(figsize=(5,4))\n",
    "        sns.heatmap(cm_df, annot=True, fmt=\"d\", cmap=\"Blues\")\n",
    "        plt.title(f\"Confusion Matrix ({model_name})\")\n",
    "        plt.ylabel(\"True label\")\n",
    "        plt.xlabel(\"Predicted label\")\n",
    "        plt.tight_layout()\n",
    "        plt.savefig(\"confusion_matrix_heatmap.png\")\n",
    "        plt.close()\n",
    "        mlflow.log_artifact(\"confusion_matrix_heatmap.png\")\n",
    "        # Provide input_example and use 'name' instead of deprecated 'artifact_path'\n",
    "        input_example = np.expand_dims(X[0], axis=0)\n",
    "        mlflow.sklearn.log_model(model, name=\"models\", input_example=input_example)\n",
    "        mlflow.set_tag(\"n_classes\", len(np.unique(y)))\n",
    "        mlflow.set_tag(\"run_time\", datetime.datetime.now().isoformat())\n",
    "        mlflow.set_tag(\"description\", f\"{model_name} on Iris dataset\")\n",
    "        print(f\"Logged run for {model_name}, accuracy={acc:.3f}\")"
   ]
  },
  {
   "cell_type": "code",
   "execution_count": 13,
   "metadata": {},
   "outputs": [
    {
     "data": {
      "text/plain": [
       "[<Experiment: artifact_location='file:///workspaces/mlops-zoomcamp/02-experiment-tracking/running-mlflow-examples/mlruns/462114580345106797', creation_time=1751191389446, experiment_id='462114580345106797', last_update_time=1751191389446, lifecycle_stage='active', name='my-experiment-1', tags={}>,\n",
       " <Experiment: artifact_location='file:///workspaces/mlops-zoomcamp/02-experiment-tracking/running-mlflow-examples/mlruns/0', creation_time=1751191388315, experiment_id='0', last_update_time=1751191388315, lifecycle_stage='active', name='Default', tags={}>]"
      ]
     },
     "execution_count": 13,
     "metadata": {},
     "output_type": "execute_result"
    }
   ],
   "source": [
    "mlflow.search_experiments()"
   ]
  },
  {
   "cell_type": "code",
   "execution_count": 14,
   "metadata": {},
   "outputs": [
    {
     "name": "stdout",
     "output_type": "stream",
     "text": [
      "MLflow UI started. Open http://localhost:5000 in your browser.\n"
     ]
    }
   ],
   "source": [
    "# Launch MLflow UI (default: uses local mlruns/ folder)\n",
    "import subprocess\n",
    "import sys\n",
    "\n",
    "# This will run 'mlflow ui' as a background process\n",
    "subprocess.Popen([sys.executable, '-m', 'mlflow', 'ui'])\n",
    "print(\"MLflow UI started. Open http://localhost:5000 in your browser.\")"
   ]
  },
  {
   "cell_type": "markdown",
   "metadata": {},
   "source": [
    "### Interacting with the model registry"
   ]
  },
  {
   "cell_type": "code",
   "execution_count": 15,
   "metadata": {},
   "outputs": [],
   "source": [
    "from mlflow.tracking import MlflowClient\n",
    "\n",
    "\n",
    "client = MlflowClient()"
   ]
  },
  {
   "cell_type": "code",
   "execution_count": null,
   "metadata": {},
   "outputs": [
    {
     "name": "stderr",
     "output_type": "stream",
     "text": [
      "[2025-06-29 10:04:13 +0000] [87272] [INFO] Starting gunicorn 23.0.0\n",
      "[2025-06-29 10:04:13 +0000] [87272] [INFO] Listening at: http://127.0.0.1:5000 (87272)\n",
      "[2025-06-29 10:04:13 +0000] [87272] [INFO] Using worker: sync\n",
      "[2025-06-29 10:04:13 +0000] [87273] [INFO] Booting worker with pid: 87273\n",
      "[2025-06-29 10:04:13 +0000] [87274] [INFO] Booting worker with pid: 87274\n",
      "[2025-06-29 10:04:13 +0000] [87281] [INFO] Booting worker with pid: 87281\n",
      "[2025-06-29 10:04:13 +0000] [87282] [INFO] Booting worker with pid: 87282\n"
     ]
    }
   ],
   "source": [
    "from mlflow.exceptions import MlflowException\n",
    "\n",
    "try:\n",
    "    client.search_registered_models()\n",
    "except MlflowException:\n",
    "    print(\"It's not possible to access the model registry :(\")"
   ]
  }
 ],
 "metadata": {
  "kernelspec": {
   "display_name": "Python 3",
   "language": "python",
   "name": "python3"
  },
  "language_info": {
   "codemirror_mode": {
    "name": "ipython",
    "version": 3
   },
   "file_extension": ".py",
   "mimetype": "text/x-python",
   "name": "python",
   "nbconvert_exporter": "python",
   "pygments_lexer": "ipython3",
   "version": "3.12.1"
  },
  "orig_nbformat": 4
 },
 "nbformat": 4,
 "nbformat_minor": 2
}
