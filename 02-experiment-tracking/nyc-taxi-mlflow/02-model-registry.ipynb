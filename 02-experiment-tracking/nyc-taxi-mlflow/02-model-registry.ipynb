{
 "cells": [
  {
   "cell_type": "markdown",
   "metadata": {},
   "source": [
    "# Part 2: MLflow Model Registry: Alias-Based Model Management\n",
    "\n",
    "> **Important:** Ensure that the MLflow tracking server started in Part 1 is still running before executing this notebook.\n",
    "\n",
    "This notebook demonstrates how to use the MLflow Model Registry for experiment tracking, model versioning, and production workflows using aliases (e.g., 'staging', 'production').\n",
    "\n",
    "## Tasks in this notebook:\n",
    "1. Connect to the MLflow tracking server.\n",
    "2. Find the best experiment runs.\n",
    "3. Register models in the Model Registry.\n",
    "4. Assign aliases to model versions.\n",
    "5. Evaluate and compare model versions on a test set.\n",
    "6. Promote the best model to production by updating the alias."
   ]
  },
  {
   "cell_type": "markdown",
   "metadata": {},
   "source": [
    "## 1. Connect to the MLflow tracking server"
   ]
  },
  {
   "cell_type": "code",
   "execution_count": 1,
   "metadata": {},
   "outputs": [
    {
     "name": "stderr",
     "output_type": "stream",
     "text": [
      "2025/06/29 11:16:09 INFO mlflow.store.db.utils: Creating initial MLflow database tables...\n",
      "2025/06/29 11:16:09 INFO mlflow.store.db.utils: Updating database tables\n",
      "INFO  [alembic.runtime.migration] Context impl SQLiteImpl.\n",
      "INFO  [alembic.runtime.migration] Will assume non-transactional DDL.\n",
      "INFO  [alembic.runtime.migration] Context impl SQLiteImpl.\n",
      "INFO  [alembic.runtime.migration] Will assume non-transactional DDL.\n"
     ]
    }
   ],
   "source": [
    "import os\n",
    "import logging\n",
    "from datetime import datetime\n",
    "\n",
    "import pandas as pd\n",
    "from sklearn.metrics import root_mean_squared_error\n",
    "\n",
    "import mlflow\n",
    "from mlflow.tracking import MlflowClient\n",
    "from mlflow.entities import ViewType\n",
    "import pickle\n",
    "logging.getLogger(\"sklearn\").setLevel(logging.WARNING)\n",
    "\n",
    "MLFLOW_TRACKING_URI = \"sqlite:///mlflow.db\"\n",
    "mlflow.set_tracking_uri(MLFLOW_TRACKING_URI)\n",
    "client = MlflowClient()"
   ]
  },
  {
   "cell_type": "code",
   "execution_count": 2,
   "metadata": {},
   "outputs": [
    {
     "name": "stdout",
     "output_type": "stream",
     "text": [
      "ID: 1, Name: nyc-taxi-experiment, Artifact Location: /workspaces/mlops-zoomcamp/02-experiment-tracking/nyc-taxi-mlflow/mlruns/1, Lifecycle Stage: active\n",
      "ID: 0, Name: Default, Artifact Location: mlflow-artifacts:/0, Lifecycle Stage: active\n"
     ]
    }
   ],
   "source": [
    "# List all experiments and print their details for better visibility\n",
    "experiments = client.search_experiments()\n",
    "for exp in experiments:\n",
    "    print(f\"ID: {exp.experiment_id}, Name: {exp.name}, Artifact Location: {exp.artifact_location}, Lifecycle Stage: {exp.lifecycle_stage}\")"
   ]
  },
  {
   "cell_type": "code",
   "execution_count": 3,
   "metadata": {},
   "outputs": [],
   "source": [
    "# Create experiment only if it does not already exist\n",
    "experiment_name = \"nyc-taxi-mlflow-model-registry\"\n",
    "existing = [exp for exp in client.search_experiments() if exp.name == experiment_name]\n",
    "if not existing:\n",
    "    client.create_experiment(name=experiment_name)\n",
    "else:\n",
    "    print(f\"Experiment '{experiment_name}' already exists (ID: {existing[0].experiment_id})\")"
   ]
  },
  {
   "cell_type": "markdown",
   "metadata": {},
   "source": [
    "## 2. Find the best experiment runs"
   ]
  },
  {
   "cell_type": "code",
   "execution_count": 4,
   "metadata": {},
   "outputs": [
    {
     "name": "stdout",
     "output_type": "stream",
     "text": [
      "run id: af52b66621a145c38bba730ce67a6df6, val_rmse: 5.4726\n",
      "run id: 143e65b964534d6b9d630e5d0bae6f75, val_rmse: 5.4727\n",
      "run id: 8522b9038eff4e91bb2ece6dedae7844, val_rmse: 5.5057\n"
     ]
    }
   ],
   "source": [
    "runs = client.search_runs(\n",
    "    experiment_ids='1',\n",
    "    filter_string=\"metrics.val_rmse < 7\",\n",
    "    run_view_type=ViewType.ACTIVE_ONLY,\n",
    "    max_results=5,\n",
    "    order_by=[\"metrics.val_rmse ASC\"]\n",
    ")\n",
    "\n",
    "for run in runs:\n",
    "    print(f\"run id: {run.info.run_id}, val_rmse: {run.data.metrics['val_rmse']:.4f}\")"
   ]
  },
  {
   "cell_type": "markdown",
   "metadata": {},
   "source": [
    "## 3. Register models in the Model Registry"
   ]
  },
  {
   "cell_type": "code",
   "execution_count": 5,
   "metadata": {},
   "outputs": [
    {
     "name": "stderr",
     "output_type": "stream",
     "text": [
      "INFO  [alembic.runtime.migration] Context impl SQLiteImpl.\n",
      "INFO  [alembic.runtime.migration] Will assume non-transactional DDL.\n"
     ]
    },
    {
     "name": "stdout",
     "output_type": "stream",
     "text": [
      "Registered model version 1 for run_id: af52b66621a145c38bba730ce67a6df6, version: 1\n",
      "Registered model version 2 for run_id: 143e65b964534d6b9d630e5d0bae6f75, version: 2\n",
      "Registered model version 3 for run_id: 8522b9038eff4e91bb2ece6dedae7844, version: 3\n"
     ]
    },
    {
     "name": "stderr",
     "output_type": "stream",
     "text": [
      "Successfully registered model 'nyc-taxi-regressor'.\n",
      "Created version '1' of model 'nyc-taxi-regressor'.\n",
      "Registered model 'nyc-taxi-regressor' already exists. Creating a new version of this model...\n",
      "Created version '2' of model 'nyc-taxi-regressor'.\n",
      "Registered model 'nyc-taxi-regressor' already exists. Creating a new version of this model...\n",
      "Created version '3' of model 'nyc-taxi-regressor'.\n"
     ]
    }
   ],
   "source": [
    "logging.getLogger(\"mlflow\").setLevel(logging.ERROR)\n",
    "\n",
    "# Only register runs that have not already been registered as a model version\n",
    "model_name = \"nyc-taxi-regressor\"\n",
    "existing_versions = client.search_model_versions(f\"name='{model_name}'\")\n",
    "runid_to_version = {mv.run_id: mv.version for mv in existing_versions}\n",
    "\n",
    "for idx, run in enumerate(runs, 1):\n",
    "    run_id = run.info.run_id\n",
    "    if run_id in runid_to_version:\n",
    "        print(f\"Run {run_id} is already registered as version {runid_to_version[run_id]}. Skipping.\")\n",
    "        continue\n",
    "    model_uri = f\"runs:/{run_id}/models\"\n",
    "    result = mlflow.register_model(model_uri=model_uri, name=model_name)\n",
    "    print(f\"Registered model version {idx} for run_id: {run_id}, version: {result.version}\")"
   ]
  },
  {
   "cell_type": "markdown",
   "metadata": {},
   "source": [
    "## 4. Assign aliases to model versions\n",
    "Assign human-friendly aliases (e.g., 'production', 'staging') to model versions for robust model management and CI/CD workflows. "
   ]
  },
  {
   "cell_type": "code",
   "execution_count": 6,
   "metadata": {},
   "outputs": [
    {
     "name": "stdout",
     "output_type": "stream",
     "text": [
      "Version  Run ID                           Aliases              Status      \n",
      "--------------------------------------------------------------------------------\n"
     ]
    }
   ],
   "source": [
    "# Show only model versions with at least one alias assigned (not None or empty)\n",
    "model_name = \"nyc-taxi-regressor\"\n",
    "versions = client.search_model_versions(f\"name='{model_name}'\")\n",
    "\n",
    "print(f\"{'Version':<8} {'Run ID':<32} {'Aliases':<20} {'Status':<12}\")\n",
    "print(\"-\" * 80)\n",
    "for mv in versions:\n",
    "    full_mv = client.get_model_version(model_name, mv.version)\n",
    "    if full_mv.aliases:\n",
    "        aliases = ', '.join(full_mv.aliases)\n",
    "        print(f\"{full_mv.version:<8} {full_mv.run_id:<32} {aliases:<20} {full_mv.status:<12}\")\n"
   ]
  },
  {
   "cell_type": "code",
   "execution_count": 7,
   "metadata": {},
   "outputs": [
    {
     "name": "stdout",
     "output_type": "stream",
     "text": [
      "Alias 'production' assigned to model version 1.\n"
     ]
    }
   ],
   "source": [
    "# Assign the alias to the model version\n",
    "new_alias = \"production\"\n",
    "model_version = 1\n",
    "\n",
    "client.set_registered_model_alias(\n",
    "    name=model_name,\n",
    "    alias=new_alias,\n",
    "    version=model_version\n",
    ")\n",
    "\n",
    "print(f\"Alias '{new_alias}' assigned to model version {model_version}.\")"
   ]
  },
  {
   "cell_type": "code",
   "execution_count": 8,
   "metadata": {},
   "outputs": [
    {
     "name": "stdout",
     "output_type": "stream",
     "text": [
      "Alias 'staging' assigned to model version 2.\n"
     ]
    }
   ],
   "source": [
    "# Assign the alias to the model version\n",
    "new_alias = \"staging\"\n",
    "model_version = 2\n",
    "\n",
    "client.set_registered_model_alias(\n",
    "    name=model_name,\n",
    "    alias=new_alias,\n",
    "    version=model_version\n",
    ")\n",
    "\n",
    "print(f\"Alias '{new_alias}' assigned to model version {model_version}.\")"
   ]
  },
  {
   "cell_type": "code",
   "execution_count": 9,
   "metadata": {},
   "outputs": [
    {
     "name": "stdout",
     "output_type": "stream",
     "text": [
      "Version  Run ID                           Aliases              Status      \n",
      "--------------------------------------------------------------------------------\n",
      "2        143e65b964534d6b9d630e5d0bae6f75 staging              READY       \n",
      "1        af52b66621a145c38bba730ce67a6df6 production           READY       \n"
     ]
    }
   ],
   "source": [
    "# Refresh and print all model versions with at least one alias assigned\n",
    "print(f\"{'Version':<8} {'Run ID':<32} {'Aliases':<20} {'Status':<12}\")\n",
    "print(\"-\" * 80)\n",
    "for mv in versions:\n",
    "    full_mv = client.get_model_version(model_name, mv.version)\n",
    "    if full_mv.aliases:\n",
    "        aliases = ', '.join(full_mv.aliases)\n",
    "        print(f\"{full_mv.version:<8} {full_mv.run_id:<32} {aliases:<20} {full_mv.status:<12}\")"
   ]
  },
  {
   "cell_type": "markdown",
   "metadata": {},
   "source": [
    "## 5. Evaluate and compare model versions on a test \n",
    "Evaluate model performance on the test set using the 'production' and 'staging' aliases. Use the results to decide which model to promote."
   ]
  },
  {
   "cell_type": "markdown",
   "metadata": {},
   "source": [
    "Compare the performance of different model versions on a test set and automatically update the production and staging aliases as needed.\n",
    "\n",
    "**Automated Model Promotion Workflow:**\n",
    "\n",
    "1. Load the test dataset (NYC Yellow Taxi data, March 2024).\n",
    "2. Load the `DictVectorizer` (preprocessor) artifact for the current model version.\n",
    "3. Preprocess the test set for model input.\n",
    "4. Evaluate both the 'production' and 'staging' models on the test set and compare their RMSEs.\n",
    "5. If the 'staging' model has a lower RMSE than 'production', promote it to 'production' and demote the previous 'production' model to 'staging'. Otherwise, keep the current assignments.\n",
    "\n",
    "**Note:** Assigning the 'production' alias in the model registry does not actually deploy the model. You should complement the registry with CI/CD code for real deployment."
   ]
  },
  {
   "cell_type": "code",
   "execution_count": 10,
   "metadata": {},
   "outputs": [],
   "source": [
    "categorical = ['PU_DO']\n",
    "numerical = ['trip_distance']\n",
    "\n",
    "def read_data(filename):\n",
    "    df = pd.read_parquet(filename)\n",
    "\n",
    "    df['duration'] = df.tpep_dropoff_datetime - df.tpep_pickup_datetime\n",
    "    df['duration'] = df.duration.dt.total_seconds() / 60\n",
    "\n",
    "    df = df[(df.duration >= 1) & (df.duration <= 60)].copy()\n",
    "\n",
    "    # Feature engineering: create PU_DO and cast to string\n",
    "    df['PU_DO'] = df['PULocationID'].astype(str) + '_' + df['DOLocationID'].astype(str)\n",
    "    df[categorical] = df[categorical].astype(str)\n",
    "\n",
    "    return df, categorical, numerical\n",
    "\n",
    "def preprocess(df, dv, categorical, numerical):\n",
    "    dicts = df[categorical + numerical].to_dict(orient='records')\n",
    "    return dv.transform(dicts)\n",
    "\n",
    "def test_model(name, alias, X, y):\n",
    "    \"\"\"\n",
    "    Loads a model from the MLflow Model Registry using an alias (e.g., 'production', 'staging').\n",
    "    \"\"\"\n",
    "    model = mlflow.pyfunc.load_model(f\"models:/{name}@{alias}\")\n",
    "    y_pred = model.predict(X)\n",
    "    rmse = root_mean_squared_error(y, y_pred)\n",
    "    print(f\"{alias.capitalize()} model RMSE on test dataset: {rmse:.4f}\")\n",
    "    return rmse"
   ]
  },
  {
   "cell_type": "code",
   "execution_count": 11,
   "metadata": {},
   "outputs": [],
   "source": [
    "# Define the test data path for yellow taxi March 2024 data\n",
    "TEST_PATH = \"https://d37ci6vzurychx.cloudfront.net/trip-data/yellow_tripdata_2024-03.parquet\"\n",
    "df_test, categorical, numerical = read_data(TEST_PATH)"
   ]
  },
  {
   "cell_type": "code",
   "execution_count": 12,
   "metadata": {},
   "outputs": [],
   "source": [
    "# Set the alias to use for loading the DictVectorizer (e.g., 'production' or 'staging')\n",
    "alias = 'production'  # or 'staging'\n",
    "\n",
    "# Load DictVectorizer for the current model version (by alias)\n",
    "run_id = client.get_model_version_by_alias(model_name, alias).run_id\n",
    "experiment_id = client.get_run(run_id).info.experiment_id\n",
    "artifact_dir = os.path.join(\"mlruns\", experiment_id, run_id, \"artifacts\", \"models\")\n",
    "artifact_file = next((os.path.join(artifact_dir, f) for f in os.listdir(artifact_dir) if f.endswith(\".bin\")), None)\n",
    "if not artifact_file or not os.path.exists(artifact_file):\n",
    "    raise FileNotFoundError(f\"No .bin artifact found for run_id {run_id} in {artifact_dir}\")\n",
    "dv_lr_tuple = pickle.load(open(artifact_file, \"rb\"))\n",
    "if isinstance(dv_lr_tuple, tuple) and len(dv_lr_tuple) == 2:\n",
    "    dv = dv_lr_tuple[0]\n",
    "else:\n",
    "    raise ValueError(f\"Expected a tuple (DictVectorizer, model) in {artifact_file}, got {type(dv_lr_tuple)}.\")"
   ]
  },
  {
   "cell_type": "code",
   "execution_count": 13,
   "metadata": {},
   "outputs": [],
   "source": [
    "X_test = preprocess(df_test, dv, categorical, numerical)"
   ]
  },
  {
   "cell_type": "code",
   "execution_count": 14,
   "metadata": {},
   "outputs": [],
   "source": [
    "# Compute duration if not already present in df_test\n",
    "if \"duration\" not in df_test.columns:\n",
    "    df_test[\"duration\"] = (df_test[\"tpep_dropoff_datetime\"] - df_test[\"tpep_pickup_datetime\"]).dt.total_seconds() / 60\n",
    "\n",
    "# Assign y_test from the refactored test dataframe\n",
    "y_test = df_test[\"duration\"].values"
   ]
  },
  {
   "cell_type": "code",
   "execution_count": 15,
   "metadata": {},
   "outputs": [
    {
     "name": "stdout",
     "output_type": "stream",
     "text": [
      "Production model RMSE on test dataset: 5.7796\n"
     ]
    }
   ],
   "source": [
    "# Make sure the desired alias (e.g., 'production') is assigned to a model version before running this cell\n",
    "\n",
    "result = test_model(model_name, 'production', X_test, y_test)"
   ]
  },
  {
   "cell_type": "code",
   "execution_count": 16,
   "metadata": {},
   "outputs": [
    {
     "name": "stdout",
     "output_type": "stream",
     "text": [
      "Staging model RMSE on test dataset: 5.7797\n"
     ]
    }
   ],
   "source": [
    "# Make sure the desired alias (e.g., 'staging') is assigned to a model version before running this cell\n",
    "\n",
    "result = test_model(model_name, 'staging', X_test, y_test)"
   ]
  },
  {
   "cell_type": "markdown",
   "metadata": {},
   "source": [
    "## 6. Promote the best model to production by updating the alias"
   ]
  },
  {
   "cell_type": "code",
   "execution_count": 17,
   "metadata": {},
   "outputs": [
    {
     "name": "stdout",
     "output_type": "stream",
     "text": [
      "Production model RMSE on test dataset: 5.7796\n",
      "Staging model RMSE on test dataset: 5.7797\n"
     ]
    }
   ],
   "source": [
    "# Compare RMSEs of production and staging, and promote the best to production\n",
    "prod_rmse = test_model(model_name, 'production', X_test, y_test)\n",
    "stag_rmse = test_model(model_name, 'staging', X_test, y_test)\n",
    "\n",
    "# Get model versions for each alias\n",
    "prod_version = client.get_model_version_by_alias(model_name, 'production').version\n",
    "stag_version = client.get_model_version_by_alias(model_name, 'staging').version"
   ]
  },
  {
   "cell_type": "code",
   "execution_count": 18,
   "metadata": {},
   "outputs": [
    {
     "name": "stdout",
     "output_type": "stream",
     "text": [
      "Production model (version 1) is better or equal (RMSE: 5.7796 <= 5.7797). No change.\n"
     ]
    }
   ],
   "source": [
    "if prod_rmse <= stag_rmse:\n",
    "    print(f\"Production model (version {prod_version}) is better or equal (RMSE: {prod_rmse:.4f} <= {stag_rmse:.4f}). No change.\")\n",
    "else:\n",
    "    # Promote staging to production and production to staging\n",
    "    client.set_registered_model_alias(name=model_name, alias='production', version=stag_version)\n",
    "    client.set_registered_model_alias(name=model_name, alias='staging', version=prod_version)\n",
    "    print(f\"Staging model (version {stag_version}) promoted to production (RMSE: {stag_rmse:.4f} < {prod_rmse:.4f}).\")\n",
    "    print(f\"Previous production model (version {prod_version}) demoted to staging.\")"
   ]
  },
  {
   "cell_type": "code",
   "execution_count": 19,
   "metadata": {},
   "outputs": [
    {
     "name": "stdout",
     "output_type": "stream",
     "text": [
      "Version  Run ID                           Aliases              Status      \n",
      "--------------------------------------------------------------------------------\n",
      "2        143e65b964534d6b9d630e5d0bae6f75 staging              READY       \n",
      "1        af52b66621a145c38bba730ce67a6df6 production           READY       \n"
     ]
    }
   ],
   "source": [
    "# Refresh and print all model versions with at least one alias assigned\n",
    "print(f\"{'Version':<8} {'Run ID':<32} {'Aliases':<20} {'Status':<12}\")\n",
    "print(\"-\" * 80)\n",
    "for mv in versions:\n",
    "    full_mv = client.get_model_version(model_name, mv.version)\n",
    "    if full_mv.aliases:\n",
    "        aliases = ', '.join(full_mv.aliases)\n",
    "        print(f\"{full_mv.version:<8} {full_mv.run_id:<32} {aliases:<20} {full_mv.status:<12}\")"
   ]
  }
 ],
 "metadata": {
  "kernelspec": {
   "display_name": "Python 3",
   "language": "python",
   "name": "python3"
  },
  "language_info": {
   "codemirror_mode": {
    "name": "ipython",
    "version": 3
   },
   "file_extension": ".py",
   "mimetype": "text/x-python",
   "name": "python",
   "nbconvert_exporter": "python",
   "pygments_lexer": "ipython3",
   "version": "3.12.1"
  },
  "orig_nbformat": 4
 },
 "nbformat": 4,
 "nbformat_minor": 2
}
