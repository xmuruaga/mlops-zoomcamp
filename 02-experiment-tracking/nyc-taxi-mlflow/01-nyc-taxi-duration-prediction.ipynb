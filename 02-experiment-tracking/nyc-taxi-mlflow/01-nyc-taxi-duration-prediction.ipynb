{
 "cells": [
  {
   "cell_type": "markdown",
   "id": "e290d6b7",
   "metadata": {},
   "source": [
    "# Part 1: NYC Taxi Trip Duration Prediction"
   ]
  },
  {
   "cell_type": "markdown",
   "id": "f91f9721",
   "metadata": {},
   "source": [
    "## Introduction\n",
    "\n",
    "In this notebook, we will build and evaluate regression models to predict the duration of NYC yellow taxi trips using real-world trip data. The workflow covers:\n",
    "\n",
    "- Downloading and preparing the data\n",
    "- Feature engineering (including trip duration calculation and categorical encoding)\n",
    "- Training and evaluating linear and ridge regression models\n",
    "- Tracking experiments and model parameters with MLflow\n",
    "\n",
    "By the end, you will understand how to structure a machine learning workflow for tabular data, compare model performance, and use MLflow for experiment tracking."
   ]
  },
  {
   "cell_type": "markdown",
   "id": "5b7b5622",
   "metadata": {},
   "source": [
    "**First, you must launch the MLflow tracking server** by running the following command in your terminal:\n",
    "\n",
    "```bash\n",
    "mlflow server --backend-store-uri sqlite:///mlflow.db\n",
    "```\n",
    "\n",
    "The MLflow UI will be available at [http://localhost:5000](http://localhost:5000) by default after you start the server.\n",
    "\n",
    "If you have previous MLflow servers running on port 5000, you should stop them first.\n",
    "You can find and kill any process using port 5000 with:\n",
    "\n",
    "```bash\n",
    "lsof -i :5000\n",
    "kill -9 1234\n",
    "```"
   ]
  },
  {
   "cell_type": "code",
   "execution_count": 1,
   "id": "bb4186e3-94cf-4bce-b36b-71e89b732710",
   "metadata": {
    "id": "bb4186e3-94cf-4bce-b36b-71e89b732710"
   },
   "outputs": [],
   "source": [
    "import os\n",
    "import pickle\n",
    "import warnings\n",
    "\n",
    "import matplotlib.pyplot as plt\n",
    "import mlflow\n",
    "import pandas as pd\n",
    "import seaborn as sns\n",
    "from mlflow.tracking import MlflowClient\n",
    "from sklearn.feature_extraction import DictVectorizer\n",
    "from sklearn.linear_model import LinearRegression\n",
    "from sklearn.linear_model import Ridge\n",
    "from sklearn.metrics import root_mean_squared_error\n",
    "\n",
    "os.makedirs('models', exist_ok=True)\n",
    "warnings.filterwarnings('ignore', category=UserWarning, module='mlflow')\n",
    "warnings.filterwarnings('ignore')"
   ]
  },
  {
   "cell_type": "markdown",
   "id": "9c298ddd",
   "metadata": {},
   "source": [
    "## 1. Experiment Tracking with MLflow"
   ]
  },
  {
   "cell_type": "code",
   "execution_count": 2,
   "id": "4448971c",
   "metadata": {},
   "outputs": [
    {
     "name": "stderr",
     "output_type": "stream",
     "text": [
      "2025/06/29 11:11:43 INFO mlflow.store.db.utils: Creating initial MLflow database tables...\n",
      "2025/06/29 11:11:43 INFO mlflow.store.db.utils: Updating database tables\n",
      "INFO  [alembic.runtime.migration] Context impl SQLiteImpl.\n",
      "INFO  [alembic.runtime.migration] Will assume non-transactional DDL.\n",
      "INFO  [alembic.runtime.migration] Context impl SQLiteImpl.\n",
      "INFO  [alembic.runtime.migration] Will assume non-transactional DDL.\n",
      "2025/06/29 11:11:43 INFO mlflow.tracking.fluent: Experiment with name 'nyc-taxi-experiment' does not exist. Creating a new experiment.\n"
     ]
    },
    {
     "data": {
      "text/plain": [
       "<Experiment: artifact_location='/workspaces/mlops-zoomcamp/02-experiment-tracking/nyc-taxi-mlflow/mlruns/1', creation_time=1751195503856, experiment_id='1', last_update_time=1751195503856, lifecycle_stage='active', name='nyc-taxi-experiment', tags={}>"
      ]
     },
     "execution_count": 2,
     "metadata": {},
     "output_type": "execute_result"
    }
   ],
   "source": [
    "mlflow.set_tracking_uri('sqlite:///mlflow.db')\n",
    "mlflow.set_experiment('nyc-taxi-experiment')"
   ]
  },
  {
   "cell_type": "markdown",
   "id": "97yfKrCqBVSc",
   "metadata": {
    "id": "97yfKrCqBVSc"
   },
   "source": [
    "## 2. Data Download\n",
    "\n"
   ]
  },
  {
   "cell_type": "code",
   "execution_count": 3,
   "id": "cbe379c6-5a79-491b-af10-c85039a1d13c",
   "metadata": {
    "id": "cbe379c6-5a79-491b-af10-c85039a1d13c"
   },
   "outputs": [],
   "source": [
    "# Define variables for train and validation data paths to avoid repetition and improve maintainability\n",
    "TRAIN_PATH = \"https://d37ci6vzurychx.cloudfront.net/trip-data/yellow_tripdata_2024-01.parquet\"\n",
    "VALID_PATH = \"https://d37ci6vzurychx.cloudfront.net/trip-data/yellow_tripdata_2024-02.parquet\"\n",
    "df = pd.read_parquet(TRAIN_PATH)"
   ]
  },
  {
   "cell_type": "code",
   "execution_count": 4,
   "id": "6635ef08-4a6d-43f4-9b36-26c728aec8be",
   "metadata": {
    "colab": {
     "base_uri": "https://localhost:8080/",
     "height": 270
    },
    "id": "6635ef08-4a6d-43f4-9b36-26c728aec8be",
    "outputId": "17104c4c-3224-4dfc-eb71-d1e33d671148"
   },
   "outputs": [
    {
     "data": {
      "text/html": [
       "<div>\n",
       "<style scoped>\n",
       "    .dataframe tbody tr th:only-of-type {\n",
       "        vertical-align: middle;\n",
       "    }\n",
       "\n",
       "    .dataframe tbody tr th {\n",
       "        vertical-align: top;\n",
       "    }\n",
       "\n",
       "    .dataframe thead th {\n",
       "        text-align: right;\n",
       "    }\n",
       "</style>\n",
       "<table border=\"1\" class=\"dataframe\">\n",
       "  <thead>\n",
       "    <tr style=\"text-align: right;\">\n",
       "      <th></th>\n",
       "      <th>VendorID</th>\n",
       "      <th>tpep_pickup_datetime</th>\n",
       "      <th>tpep_dropoff_datetime</th>\n",
       "      <th>passenger_count</th>\n",
       "      <th>trip_distance</th>\n",
       "      <th>RatecodeID</th>\n",
       "      <th>store_and_fwd_flag</th>\n",
       "      <th>PULocationID</th>\n",
       "      <th>DOLocationID</th>\n",
       "      <th>payment_type</th>\n",
       "      <th>fare_amount</th>\n",
       "      <th>extra</th>\n",
       "      <th>mta_tax</th>\n",
       "      <th>tip_amount</th>\n",
       "      <th>tolls_amount</th>\n",
       "      <th>improvement_surcharge</th>\n",
       "      <th>total_amount</th>\n",
       "      <th>congestion_surcharge</th>\n",
       "      <th>Airport_fee</th>\n",
       "    </tr>\n",
       "  </thead>\n",
       "  <tbody>\n",
       "    <tr>\n",
       "      <th>0</th>\n",
       "      <td>2</td>\n",
       "      <td>2024-01-01 00:57:55</td>\n",
       "      <td>2024-01-01 01:17:43</td>\n",
       "      <td>1.0</td>\n",
       "      <td>1.72</td>\n",
       "      <td>1.0</td>\n",
       "      <td>N</td>\n",
       "      <td>186</td>\n",
       "      <td>79</td>\n",
       "      <td>2</td>\n",
       "      <td>17.7</td>\n",
       "      <td>1.0</td>\n",
       "      <td>0.5</td>\n",
       "      <td>0.00</td>\n",
       "      <td>0.0</td>\n",
       "      <td>1.0</td>\n",
       "      <td>22.70</td>\n",
       "      <td>2.5</td>\n",
       "      <td>0.0</td>\n",
       "    </tr>\n",
       "    <tr>\n",
       "      <th>1</th>\n",
       "      <td>1</td>\n",
       "      <td>2024-01-01 00:03:00</td>\n",
       "      <td>2024-01-01 00:09:36</td>\n",
       "      <td>1.0</td>\n",
       "      <td>1.80</td>\n",
       "      <td>1.0</td>\n",
       "      <td>N</td>\n",
       "      <td>140</td>\n",
       "      <td>236</td>\n",
       "      <td>1</td>\n",
       "      <td>10.0</td>\n",
       "      <td>3.5</td>\n",
       "      <td>0.5</td>\n",
       "      <td>3.75</td>\n",
       "      <td>0.0</td>\n",
       "      <td>1.0</td>\n",
       "      <td>18.75</td>\n",
       "      <td>2.5</td>\n",
       "      <td>0.0</td>\n",
       "    </tr>\n",
       "    <tr>\n",
       "      <th>2</th>\n",
       "      <td>1</td>\n",
       "      <td>2024-01-01 00:17:06</td>\n",
       "      <td>2024-01-01 00:35:01</td>\n",
       "      <td>1.0</td>\n",
       "      <td>4.70</td>\n",
       "      <td>1.0</td>\n",
       "      <td>N</td>\n",
       "      <td>236</td>\n",
       "      <td>79</td>\n",
       "      <td>1</td>\n",
       "      <td>23.3</td>\n",
       "      <td>3.5</td>\n",
       "      <td>0.5</td>\n",
       "      <td>3.00</td>\n",
       "      <td>0.0</td>\n",
       "      <td>1.0</td>\n",
       "      <td>31.30</td>\n",
       "      <td>2.5</td>\n",
       "      <td>0.0</td>\n",
       "    </tr>\n",
       "    <tr>\n",
       "      <th>3</th>\n",
       "      <td>1</td>\n",
       "      <td>2024-01-01 00:36:38</td>\n",
       "      <td>2024-01-01 00:44:56</td>\n",
       "      <td>1.0</td>\n",
       "      <td>1.40</td>\n",
       "      <td>1.0</td>\n",
       "      <td>N</td>\n",
       "      <td>79</td>\n",
       "      <td>211</td>\n",
       "      <td>1</td>\n",
       "      <td>10.0</td>\n",
       "      <td>3.5</td>\n",
       "      <td>0.5</td>\n",
       "      <td>2.00</td>\n",
       "      <td>0.0</td>\n",
       "      <td>1.0</td>\n",
       "      <td>17.00</td>\n",
       "      <td>2.5</td>\n",
       "      <td>0.0</td>\n",
       "    </tr>\n",
       "    <tr>\n",
       "      <th>4</th>\n",
       "      <td>1</td>\n",
       "      <td>2024-01-01 00:46:51</td>\n",
       "      <td>2024-01-01 00:52:57</td>\n",
       "      <td>1.0</td>\n",
       "      <td>0.80</td>\n",
       "      <td>1.0</td>\n",
       "      <td>N</td>\n",
       "      <td>211</td>\n",
       "      <td>148</td>\n",
       "      <td>1</td>\n",
       "      <td>7.9</td>\n",
       "      <td>3.5</td>\n",
       "      <td>0.5</td>\n",
       "      <td>3.20</td>\n",
       "      <td>0.0</td>\n",
       "      <td>1.0</td>\n",
       "      <td>16.10</td>\n",
       "      <td>2.5</td>\n",
       "      <td>0.0</td>\n",
       "    </tr>\n",
       "  </tbody>\n",
       "</table>\n",
       "</div>"
      ],
      "text/plain": [
       "   VendorID tpep_pickup_datetime tpep_dropoff_datetime  passenger_count  \\\n",
       "0         2  2024-01-01 00:57:55   2024-01-01 01:17:43              1.0   \n",
       "1         1  2024-01-01 00:03:00   2024-01-01 00:09:36              1.0   \n",
       "2         1  2024-01-01 00:17:06   2024-01-01 00:35:01              1.0   \n",
       "3         1  2024-01-01 00:36:38   2024-01-01 00:44:56              1.0   \n",
       "4         1  2024-01-01 00:46:51   2024-01-01 00:52:57              1.0   \n",
       "\n",
       "   trip_distance  RatecodeID store_and_fwd_flag  PULocationID  DOLocationID  \\\n",
       "0           1.72         1.0                  N           186            79   \n",
       "1           1.80         1.0                  N           140           236   \n",
       "2           4.70         1.0                  N           236            79   \n",
       "3           1.40         1.0                  N            79           211   \n",
       "4           0.80         1.0                  N           211           148   \n",
       "\n",
       "   payment_type  fare_amount  extra  mta_tax  tip_amount  tolls_amount  \\\n",
       "0             2         17.7    1.0      0.5        0.00           0.0   \n",
       "1             1         10.0    3.5      0.5        3.75           0.0   \n",
       "2             1         23.3    3.5      0.5        3.00           0.0   \n",
       "3             1         10.0    3.5      0.5        2.00           0.0   \n",
       "4             1          7.9    3.5      0.5        3.20           0.0   \n",
       "\n",
       "   improvement_surcharge  total_amount  congestion_surcharge  Airport_fee  \n",
       "0                    1.0         22.70                   2.5          0.0  \n",
       "1                    1.0         18.75                   2.5          0.0  \n",
       "2                    1.0         31.30                   2.5          0.0  \n",
       "3                    1.0         17.00                   2.5          0.0  \n",
       "4                    1.0         16.10                   2.5          0.0  "
      ]
     },
     "execution_count": 4,
     "metadata": {},
     "output_type": "execute_result"
    }
   ],
   "source": [
    "df.head()"
   ]
  },
  {
   "cell_type": "code",
   "execution_count": 5,
   "id": "f055344d-f050-4fcf-8453-ee4a66407bfe",
   "metadata": {
    "colab": {
     "base_uri": "https://localhost:8080/"
    },
    "id": "f055344d-f050-4fcf-8453-ee4a66407bfe",
    "outputId": "68b659fe-15ba-468b-9f87-41122d66ba85"
   },
   "outputs": [
    {
     "data": {
      "text/plain": [
       "19"
      ]
     },
     "execution_count": 5,
     "metadata": {},
     "output_type": "execute_result"
    }
   ],
   "source": [
    "len(df.columns)"
   ]
  },
  {
   "cell_type": "markdown",
   "id": "pWrLGUESBed6",
   "metadata": {
    "id": "pWrLGUESBed6"
   },
   "source": [
    "## 3. Feature Engineering: Compute Trip Duration"
   ]
  },
  {
   "cell_type": "code",
   "execution_count": 6,
   "id": "b186962d-7ee1-4b97-a457-7ef2b2de811a",
   "metadata": {
    "id": "b186962d-7ee1-4b97-a457-7ef2b2de811a"
   },
   "outputs": [],
   "source": [
    "df['duration'] = df.tpep_dropoff_datetime - df.tpep_pickup_datetime\n",
    "df['duration'] = df.duration.dt.total_seconds() / 60"
   ]
  },
  {
   "cell_type": "code",
   "execution_count": 7,
   "id": "0e3e89da-45a3-4b12-99bb-8b56457cfa5a",
   "metadata": {
    "colab": {
     "base_uri": "https://localhost:8080/"
    },
    "id": "0e3e89da-45a3-4b12-99bb-8b56457cfa5a",
    "outputId": "289c84a9-b93f-4400-edd9-300dada8dec0"
   },
   "outputs": [
    {
     "data": {
      "text/plain": [
       "np.float64(15.612950619257845)"
      ]
     },
     "execution_count": 7,
     "metadata": {},
     "output_type": "execute_result"
    }
   ],
   "source": [
    "df.duration.mean()"
   ]
  },
  {
   "cell_type": "code",
   "execution_count": 8,
   "id": "9da88772-b29c-4c46-8859-7c28ac2be021",
   "metadata": {
    "colab": {
     "base_uri": "https://localhost:8080/"
    },
    "id": "9da88772-b29c-4c46-8859-7c28ac2be021",
    "outputId": "d8bc9a61-e953-400a-98a5-9613b8bc7021",
    "tags": []
   },
   "outputs": [
    {
     "data": {
      "text/plain": [
       "np.float64(34.851053592212814)"
      ]
     },
     "execution_count": 8,
     "metadata": {},
     "output_type": "execute_result"
    }
   ],
   "source": [
    "df.duration.std()"
   ]
  },
  {
   "cell_type": "markdown",
   "id": "ca0c395a-d5cf-4870-aa64-edb4809bc662",
   "metadata": {
    "id": "ca0c395a-d5cf-4870-aa64-edb4809bc662"
   },
   "source": [
    "## 4. Remove Outliers"
   ]
  },
  {
   "cell_type": "code",
   "execution_count": 9,
   "id": "a06d9882-82bc-40eb-954e-ebabde6e5431",
   "metadata": {
    "colab": {
     "base_uri": "https://localhost:8080/"
    },
    "id": "a06d9882-82bc-40eb-954e-ebabde6e5431",
    "outputId": "b318ae8f-3d3c-4115-8111-9415bd7def9b"
   },
   "outputs": [
    {
     "data": {
      "text/plain": [
       "97.78326020432945"
      ]
     },
     "execution_count": 9,
     "metadata": {},
     "output_type": "execute_result"
    }
   ],
   "source": [
    "len(df[(df.duration >= 1) & (df.duration <= 60)]) / len(df) * 100"
   ]
  },
  {
   "cell_type": "code",
   "execution_count": 10,
   "id": "0fd4307e-f3b6-45ba-bf1d-82e4a1c09a9b",
   "metadata": {
    "id": "0fd4307e-f3b6-45ba-bf1d-82e4a1c09a9b"
   },
   "outputs": [],
   "source": [
    "df = df[(df.duration >= 1) & (df.duration <= 60)].copy()"
   ]
  },
  {
   "cell_type": "markdown",
   "id": "00b428a6-3438-4482-91fb-04ed17f5fe8d",
   "metadata": {
    "id": "00b428a6-3438-4482-91fb-04ed17f5fe8d"
   },
   "source": [
    "## 5. Feature Engineering: One-Hot Encoding"
   ]
  },
  {
   "cell_type": "code",
   "execution_count": 11,
   "id": "3a3c1b0d",
   "metadata": {},
   "outputs": [],
   "source": [
    "categorical = ['PULocationID', 'DOLocationID']\n",
    "numerical = ['trip_distance']\n",
    "df['PU_DO'] = df['PULocationID'].astype(str) + '_' + df['DOLocationID'].astype(str)\n",
    "categorical = ['PU_DO']"
   ]
  },
  {
   "cell_type": "code",
   "execution_count": 12,
   "id": "8853a0e2-7d3f-46e6-a45d-eeadc7c65bd1",
   "metadata": {
    "id": "8853a0e2-7d3f-46e6-a45d-eeadc7c65bd1"
   },
   "outputs": [],
   "source": [
    "df[categorical] = df[categorical].astype(str)"
   ]
  },
  {
   "cell_type": "code",
   "execution_count": 13,
   "id": "3bb3cef4-bb13-4b20-a1ba-0c23b27062de",
   "metadata": {
    "id": "3bb3cef4-bb13-4b20-a1ba-0c23b27062de"
   },
   "outputs": [],
   "source": [
    "train_dicts = df[categorical + numerical].to_dict(orient='records')"
   ]
  },
  {
   "cell_type": "code",
   "execution_count": 14,
   "id": "f89a6a92-bc5b-4aac-9366-aa9ea7029df6",
   "metadata": {
    "id": "f89a6a92-bc5b-4aac-9366-aa9ea7029df6"
   },
   "outputs": [],
   "source": [
    "dv = DictVectorizer()\n",
    "X_train = dv.fit_transform(train_dicts)"
   ]
  },
  {
   "cell_type": "code",
   "execution_count": 15,
   "id": "bfb1d21f-23e8-411d-b70d-748b9b672efb",
   "metadata": {
    "colab": {
     "base_uri": "https://localhost:8080/"
    },
    "id": "bfb1d21f-23e8-411d-b70d-748b9b672efb",
    "outputId": "46aafa55-2e06-4f5b-b0cf-a14353d3dd95"
   },
   "outputs": [
    {
     "name": "stdout",
     "output_type": "stream",
     "text": [
      "Feature matrix size: (2898906, 24016)\n"
     ]
    }
   ],
   "source": [
    "print(f'Feature matrix size: {X_train.shape}')"
   ]
  },
  {
   "cell_type": "markdown",
   "id": "bb9c2670-07b9-4813-9798-d367fc6535fe",
   "metadata": {
    "id": "bb9c2670-07b9-4813-9798-d367fc6535fe"
   },
   "source": [
    "## 6. Model Training: Linear Regression"
   ]
  },
  {
   "cell_type": "code",
   "execution_count": 16,
   "id": "098c5ff8-8e41-41a6-a7cd-760f9c79c1f9",
   "metadata": {
    "id": "098c5ff8-8e41-41a6-a7cd-760f9c79c1f9"
   },
   "outputs": [],
   "source": [
    "target = 'duration'\n",
    "y_train = df[target].values"
   ]
  },
  {
   "cell_type": "code",
   "execution_count": 17,
   "id": "986fd495-62f8-455c-a652-946f144c5832",
   "metadata": {
    "colab": {
     "base_uri": "https://localhost:8080/"
    },
    "id": "986fd495-62f8-455c-a652-946f144c5832",
    "outputId": "f71a2119-1f4f-4d05-d60c-ad6dbd72b6c4"
   },
   "outputs": [
    {
     "name": "stdout",
     "output_type": "stream",
     "text": [
      "Linear Regression Train RMSE: 5.297043492966795\n"
     ]
    }
   ],
   "source": [
    "lr = LinearRegression()\n",
    "lr.fit(X_train, y_train)\n",
    "\n",
    "y_pred = lr.predict(X_train)\n",
    "\n",
    "print(f'Linear Regression Train RMSE: {root_mean_squared_error(y_train, y_pred)}')"
   ]
  },
  {
   "cell_type": "code",
   "execution_count": 18,
   "id": "87051e49-1293-4e56-bda8-38e4f206e0ed",
   "metadata": {
    "colab": {
     "base_uri": "https://localhost:8080/",
     "height": 430
    },
    "id": "87051e49-1293-4e56-bda8-38e4f206e0ed",
    "outputId": "fb12601f-650e-421b-e120-a8a3236f37aa"
   },
   "outputs": [
    {
     "data": {
      "text/plain": [
       "<matplotlib.legend.Legend at 0x7810c34661b0>"
      ]
     },
     "execution_count": 18,
     "metadata": {},
     "output_type": "execute_result"
    },
    {
     "data": {
      "image/png": "[encoded data removed]",
      "text/plain": [
       "<Figure size 640x480 with 1 Axes>"
      ]
     },
     "metadata": {},
     "output_type": "display_data"
    }
   ],
   "source": [
    "sns.histplot(y_pred, label='prediction')\n",
    "sns.histplot(y_train, label='actual')\n",
    "\n",
    "plt.legend()"
   ]
  },
  {
   "cell_type": "markdown",
   "id": "5259854b-65a5-4fd0-a8b9-87a41ce4835d",
   "metadata": {
    "id": "5259854b-65a5-4fd0-a8b9-87a41ce4835d"
   },
   "source": [
    "## 7. Model Evaluation"
   ]
  },
  {
   "cell_type": "code",
   "execution_count": 19,
   "id": "40b14d97",
   "metadata": {},
   "outputs": [],
   "source": [
    "categorical = ['PULocationID', 'DOLocationID']\n",
    "numerical = ['trip_distance']\n",
    "\n",
    "def read_data(filename):\n",
    "    df = pd.read_parquet(filename)\n",
    "\n",
    "    df['duration'] = df.tpep_dropoff_datetime - df.tpep_pickup_datetime\n",
    "    df.duration = df.duration.dt.total_seconds() / 60\n",
    "\n",
    "    df = df[(df.duration >= 1) & (df.duration <= 60)].copy()\n",
    "\n",
    "    df[categorical] = df[categorical].astype('str')\n",
    "    df['PU_DO'] = df['PULocationID'] + '_' + df['DOLocationID']\n",
    "    categorical_ = ['PU_DO']\n",
    "    \n",
    "    return df, categorical_, numerical"
   ]
  },
  {
   "cell_type": "code",
   "execution_count": 20,
   "id": "c6b16244",
   "metadata": {},
   "outputs": [],
   "source": [
    "df_val, categorical_, numerical = read_data(VALID_PATH)"
   ]
  },
  {
   "cell_type": "code",
   "execution_count": 21,
   "id": "99e4afed",
   "metadata": {},
   "outputs": [],
   "source": [
    "val_dicts = df_val[categorical_ + numerical].to_dict(orient='records')"
   ]
  },
  {
   "cell_type": "code",
   "execution_count": 22,
   "id": "cfa99618",
   "metadata": {},
   "outputs": [
    {
     "name": "stdout",
     "output_type": "stream",
     "text": [
      "Linear Regression Val RMSE: 5.5057\n"
     ]
    }
   ],
   "source": [
    "X_val = dv.transform(val_dicts) \n",
    "y_val = df_val.duration.values\n",
    "\n",
    "# Start an MLflow run to log parameters, metrics, and artifacts\n",
    "with mlflow.start_run() as run:\n",
    "    mlflow.set_tag('developer', 'xabier')\n",
    "    mlflow.log_param('train-data-path', TRAIN_PATH)\n",
    "    mlflow.log_param('valid-data-path', VALID_PATH)\n",
    "\n",
    "    mlflow.set_tag('model', 'linear_regression')\n",
    "    mlflow.set_tag('type', 'regression')\n",
    "    \n",
    "    y_pred = lr.predict(X_val)\n",
    "\n",
    "    val_rmse = root_mean_squared_error(y_val, y_pred)\n",
    "    mlflow.log_metric('val_rmse', val_rmse)\n",
    "    print(f'Linear Regression Val RMSE: {val_rmse:.4f}')\n",
    "\n",
    "    # Save preprocessor and model together for reproducibility\n",
    "    model_path = 'models/lin_reg.bin'\n",
    "    with open(model_path, 'wb') as f_out:\n",
    "        pickle.dump((dv, lr), f_out)\n",
    "    mlflow.log_artifact(model_path, 'models')\n",
    "\n",
    "    # Log the sklearn model in a way that is compatible with the model registry\n",
    "    input_example = X_val[:2] if hasattr(X_val, '__getitem__') else None\n",
    "    mlflow.sklearn.log_model(lr, name='models', input_example=input_example)"
   ]
  },
  {
   "cell_type": "code",
   "execution_count": 23,
   "id": "9f3474a4",
   "metadata": {},
   "outputs": [
    {
     "name": "stdout",
     "output_type": "stream",
     "text": [
      "ID: 1, Name: nyc-taxi-experiment, Artifact Location: /workspaces/mlops-zoomcamp/02-experiment-tracking/nyc-taxi-mlflow/mlruns/1, Lifecycle Stage: active\n",
      "ID: 0, Name: Default, Artifact Location: mlflow-artifacts:/0, Lifecycle Stage: active\n"
     ]
    }
   ],
   "source": [
    "MLFLOW_TRACKING_URI = 'sqlite:///mlflow.db'\n",
    "\n",
    "client = MlflowClient(tracking_uri=MLFLOW_TRACKING_URI)\n",
    "\n",
    "# List all experiments and print their details for better visibility\n",
    "experiments = client.search_experiments()\n",
    "for exp in experiments:\n",
    "    print(f\"ID: {exp.experiment_id}, Name: {exp.name}, Artifact Location: {exp.artifact_location}, Lifecycle Stage: {exp.lifecycle_stage}\")"
   ]
  },
  {
   "cell_type": "markdown",
   "id": "5a9664eb",
   "metadata": {},
   "source": [
    "## 8. Model Training: Ridge Regression"
   ]
  },
  {
   "cell_type": "markdown",
   "id": "80138208",
   "metadata": {},
   "source": [
    "#### Ridge Regression, a = 0.1"
   ]
  },
  {
   "cell_type": "code",
   "execution_count": 24,
   "id": "5bf269f3",
   "metadata": {},
   "outputs": [
    {
     "name": "stdout",
     "output_type": "stream",
     "text": [
      "Ridge Val RMSE: 5.473\n"
     ]
    }
   ],
   "source": [
    "with mlflow.start_run():\n",
    "    mlflow.set_tag('developer', 'xabier')\n",
    "    mlflow.log_param('train-data-path', TRAIN_PATH)\n",
    "    mlflow.log_param('valid-data-path', VALID_PATH)\n",
    "    \n",
    "    mlflow.set_tag('model', 'ridge')\n",
    "    mlflow.set_tag('type', 'regression')\n",
    "    \n",
    "    alpha = 0.1\n",
    "    mlflow.log_param('alpha', alpha)\n",
    "    ridge = Ridge(alpha)\n",
    "    ridge.fit(X_train, y_train)\n",
    "\n",
    "    y_pred_ridge = ridge.predict(X_val)\n",
    "    mlflow.log_metric('val_rmse', root_mean_squared_error(y_val, y_pred_ridge))\n",
    "    print(f\"Ridge Val RMSE: {root_mean_squared_error(y_val, y_pred_ridge):.3f}\")\n",
    "\n",
    "    # Save preprocessor and model together\n",
    "    model_path = 'models/ridge_reg_01.bin'\n",
    "    with open(model_path, 'wb') as f_out:\n",
    "        pickle.dump((dv, ridge), f_out)\n",
    "    mlflow.log_artifact(model_path, 'models')\n",
    "\n",
    "    # Log the sklearn model for model registry\n",
    "    input_example = X_val[:2] if hasattr(X_val, '__getitem__') else None\n",
    "    mlflow.sklearn.log_model(ridge, name='models', input_example=input_example)"
   ]
  },
  {
   "cell_type": "markdown",
   "id": "bb864031",
   "metadata": {},
   "source": [
    "#### Ridge Regression, a = 0.01"
   ]
  },
  {
   "cell_type": "code",
   "execution_count": 25,
   "id": "ea4f8bbc",
   "metadata": {},
   "outputs": [
    {
     "name": "stdout",
     "output_type": "stream",
     "text": [
      "Ridge Val RMSE: 5.473\n"
     ]
    }
   ],
   "source": [
    "with mlflow.start_run():\n",
    "    mlflow.set_tag('developer', 'xabier')\n",
    "    mlflow.log_param('train-data-path', TRAIN_PATH)\n",
    "    mlflow.log_param('valid-data-path', VALID_PATH)\n",
    "    \n",
    "    mlflow.set_tag('model', 'ridge')\n",
    "    mlflow.set_tag('type', 'regression')\n",
    "    \n",
    "    alpha = 0.01\n",
    "    mlflow.log_param('alpha', alpha)\n",
    "    ridge = Ridge(alpha)\n",
    "    ridge.fit(X_train, y_train)\n",
    "\n",
    "    y_pred_ridge = ridge.predict(X_val)\n",
    "    mlflow.log_metric('val_rmse', root_mean_squared_error(y_val, y_pred_ridge))\n",
    "    print(f\"Ridge Val RMSE: {root_mean_squared_error(y_val, y_pred_ridge):.3f}\")\n",
    "\n",
    "    # Save preprocessor and model together\n",
    "    model_path = 'models/ridge_reg_001.bin'\n",
    "    with open(model_path, 'wb') as f_out:\n",
    "        pickle.dump((dv, ridge), f_out)\n",
    "    mlflow.log_artifact(model_path, 'models')\n",
    "\n",
    "    # Log the sklearn model for model registry\n",
    "    input_example = X_val[:2] if hasattr(X_val, '__getitem__') else None\n",
    "    mlflow.sklearn.log_model(ridge, name='models', input_example=input_example)"
   ]
  },
  {
   "cell_type": "markdown",
   "id": "33798d07",
   "metadata": {},
   "source": [
    "#### Lasso Regression, a = 0.05"
   ]
  },
  {
   "cell_type": "code",
   "execution_count": 26,
   "id": "c7b6be59",
   "metadata": {},
   "outputs": [
    {
     "name": "stdout",
     "output_type": "stream",
     "text": [
      "Lasso Val RMSE: 10.250\n"
     ]
    }
   ],
   "source": [
    "from sklearn.linear_model import Lasso\n",
    "\n",
    "with mlflow.start_run():\n",
    "    mlflow.set_tag('developer', 'xabier')\n",
    "    mlflow.log_param('train-data-path', TRAIN_PATH)\n",
    "    mlflow.log_param('valid-data-path', VALID_PATH)\n",
    "    \n",
    "    mlflow.set_tag('model', 'lasso')\n",
    "    mlflow.set_tag('type', 'regression')\n",
    "    \n",
    "    alpha = 0.05\n",
    "    mlflow.log_param('alpha', alpha)\n",
    "    lasso = Lasso(alpha)\n",
    "    lasso.fit(X_train, y_train)\n",
    "\n",
    "    y_pred_lasso = lasso.predict(X_val)\n",
    "    mlflow.log_metric('val_rmse', root_mean_squared_error(y_val, y_pred_lasso))\n",
    "    print(f\"Lasso Val RMSE: {root_mean_squared_error(y_val, y_pred_lasso):.3f}\")\n",
    "\n",
    "    # Save preprocessor and model together\n",
    "    model_path = 'models/lasso_reg.bin'\n",
    "    with open(model_path, 'wb') as f_out:\n",
    "        pickle.dump((dv, lasso), f_out)\n",
    "    mlflow.log_artifact(model_path, 'models')\n",
    "\n",
    "    # Log the sklearn model for model registry\n",
    "    input_example = X_val[:2] if hasattr(X_val, '__getitem__') else None\n",
    "    mlflow.sklearn.log_model(lasso, name='models', input_example=input_example)"
   ]
  }
 ],
 "metadata": {
  "colab": {
   "provenance": []
  },
  "kernelspec": {
   "display_name": "Python 3",
   "language": "python",
   "name": "python3"
  },
  "language_info": {
   "codemirror_mode": {
    "name": "ipython",
    "version": 3
   },
   "file_extension": ".py",
   "mimetype": "text/x-python",
   "name": "python",
   "nbconvert_exporter": "python",
   "pygments_lexer": "ipython3",
   "version": "3.12.1"
  }
 },
 "nbformat": 4,
 "nbformat_minor": 5
}
